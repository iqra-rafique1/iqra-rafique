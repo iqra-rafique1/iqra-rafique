{
 "cells": [
  {
   "cell_type": "code",
   "execution_count": 1,
   "id": "88bdb458",
   "metadata": {},
   "outputs": [
    {
     "name": "stdout",
     "output_type": "stream",
     "text": [
      "Enter the first number: 2\n",
      "Enter the second number: 23\n",
      "\n",
      "What do you want to do?\n",
      "1: Addition \n",
      "2: Subtraction \n",
      "3: Multiplication \n",
      "4:Power\n",
      "1\n",
      "The sum of two number is :  25\n"
     ]
    }
   ],
   "source": [
    "a = int(input(\"Enter the first number: \"))\n",
    "b= int(input(\"Enter the second number: \"))\n",
    "\n",
    "print(\"\\nWhat do you want to do?\")\n",
    "view = int(input(\"1: Addition \\n2: Subtraction \\n3: Multiplication \\n4:Power\\n\"))\n",
    "if view == 1:\n",
    "    c =a+b;\n",
    "    print(\"The sum of two number is : \",c)\n",
    "elif view == 2:\n",
    "        c =a-b;\n",
    "        print(\"The substraction of two number is : \",c)\n",
    "elif view == 3:\n",
    "            c =a*b;\n",
    "            print(\"The multiplication of two number is : \",c)\n",
    "elif view == 4:\n",
    "                c= a**b;\n",
    "                print(\"The power of two number is : \",c)\n",
    "else:\n",
    "    print(\"Please choose correct number\")\n",
    "                "
   ]
  },
  {
   "cell_type": "code",
   "execution_count": 2,
   "id": "e2d3f46a",
   "metadata": {},
   "outputs": [
    {
     "name": "stdout",
     "output_type": "stream",
     "text": [
      "['1']\n",
      "['1', '2']\n",
      "['1', '2', '3']\n",
      "['1', '2', '3', '5']\n"
     ]
    }
   ],
   "source": [
    "a =[\"1\",\"2\",\"3\",\"4\",\"5\",\"6\",\"7\",\"8\",\"9\",\"10\"]\n",
    "b =[\"1\" ,\"2\",\"3\",\"Geo\",\"5\"]\n",
    "c=[]\n",
    "for i in a:\n",
    "    for j in b:\n",
    "        if(i==j):\n",
    "            c.append(j)\n",
    "            print(c)"
   ]
  },
  {
   "cell_type": "code",
   "execution_count": 9,
   "id": "42f0abf3",
   "metadata": {},
   "outputs": [
    {
     "name": "stdout",
     "output_type": "stream",
     "text": [
      "{1: 'IQRA', 2: 'RAFIQUE', 3: 'MALIK'}\n",
      "enter the key: 3\n",
      "enter the value: 23\n",
      "{1: 'IQRA', 2: 'RAFIQUE', 3: '23'}\n"
     ]
    }
   ],
   "source": [
    "a ={1: 'IQRA' , 2:'RAFIQUE', 3:'MALIK'}\n",
    "print(a)\n",
    "b=int(input(\"enter the key: \"))\n",
    "c=input(\"enter the value: \")\n",
    "a[b]=c\n",
    "print(a)"
   ]
  },
  {
   "cell_type": "code",
   "execution_count": 5,
   "id": "727f1f85",
   "metadata": {},
   "outputs": [
    {
     "name": "stdout",
     "output_type": "stream",
     "text": [
      "Total sum of items: 10\n"
     ]
    }
   ],
   "source": [
    "a={1:'120',2:'3220',3:'4475',4:'5'}\n",
    "print(\"Total sum of items:\",sum(a))\n"
   ]
  },
  {
   "cell_type": "code",
   "execution_count": 6,
   "id": "d4a9c1d8",
   "metadata": {},
   "outputs": [
    {
     "name": "stdout",
     "output_type": "stream",
     "text": [
      "{1: 4, 2: 3, 3: 1, 4: 1, 5: 2, 6: 1, 7: 1, 8: 1, 9: 2}\n"
     ]
    }
   ],
   "source": [
    "l1 = [1,2,1,2,3,4,5,1,1,2,5,6,7,8,9,9]\n",
    "l2 = {item:l1.count(item) for item in l1}\n",
    "print(l2)"
   ]
  },
  {
   "cell_type": "code",
   "execution_count": 7,
   "id": "cb5b33bb",
   "metadata": {},
   "outputs": [
    {
     "name": "stdout",
     "output_type": "stream",
     "text": [
      "None\n"
     ]
    }
   ],
   "source": [
    "a={1:'120',2:'3220',3:'4475',4:'5'}\n",
    "print(a.get(5))"
   ]
  },
  {
   "cell_type": "code",
   "execution_count": 8,
   "id": "5f59fd32",
   "metadata": {},
   "outputs": [
    {
     "name": "stdout",
     "output_type": "stream",
     "text": [
      "Enter the key 3\n",
      "Key is present and value of the key is:\n",
      "C\n"
     ]
    }
   ],
   "source": [
    "d={1:'A',2:'B',3:'C',4:'D'}\n",
    "key = int(input(\"Enter the key \"))\n",
    "if key in d.keys():\n",
    "         print(\"Key is present and value of the key is:\")\n",
    "         print(d[key])\n",
    "else:\n",
    "      print(\"Key isn't present!\")\n"
   ]
  },
  {
   "cell_type": "code",
   "execution_count": null,
   "id": "e07dcb82",
   "metadata": {},
   "outputs": [],
   "source": []
  }
 ],
 "metadata": {
  "kernelspec": {
   "display_name": "Python 3",
   "language": "python",
   "name": "python3"
  },
  "language_info": {
   "codemirror_mode": {
    "name": "ipython",
    "version": 3
   },
   "file_extension": ".py",
   "mimetype": "text/x-python",
   "name": "python",
   "nbconvert_exporter": "python",
   "pygments_lexer": "ipython3",
   "version": "3.8.8"
  }
 },
 "nbformat": 4,
 "nbformat_minor": 5
}
